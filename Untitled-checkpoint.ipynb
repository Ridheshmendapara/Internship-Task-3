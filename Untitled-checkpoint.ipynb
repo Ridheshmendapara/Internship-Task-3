{
 "cells": [
  {
   "cell_type": "code",
   "execution_count": 4,
   "id": "55ac3a1a-6178-4daa-9876-888c779f6f97",
   "metadata": {},
   "outputs": [
    {
     "name": "stdout",
     "output_type": "stream",
     "text": [
      "\n",
      "Statistical summary:\n",
      "       39, State-gov, 77516, Bachelors, 13, Never-married, Adm-clerical, Not-in-family, White, Male, 2174, 0, 40, United-States, <=50K\n",
      "count                                               32560                                                                             \n",
      "unique                                              32536                                                                             \n",
      "top     25, Private, 195994, 1st-4th, 2, Never-married...                                                                             \n",
      "freq                                                    3                                                                             \n",
      "\n",
      "DataFrame information:\n",
      "<class 'pandas.core.frame.DataFrame'>\n",
      "RangeIndex: 32560 entries, 0 to 32559\n",
      "Data columns (total 1 columns):\n",
      " #   Column                                                                                                                           Non-Null Count  Dtype \n",
      "---  ------                                                                                                                           --------------  ----- \n",
      " 0   39, State-gov, 77516, Bachelors, 13, Never-married, Adm-clerical, Not-in-family, White, Male, 2174, 0, 40, United-States, <=50K  32560 non-null  object\n",
      "dtypes: object(1)\n",
      "memory usage: 254.5+ KB\n",
      "None\n"
     ]
    }
   ],
   "source": [
    "import pandas as pd\n",
    "import os\n",
    "\n",
    "# Replace the following with the actual name of your CSV file\n",
    "csv_file_name = \"Data.csv\"\n",
    "folder_path = r\"F:\\RIDHESH DOC\\Task-3\"  # Use raw string (r\"\") for Windows paths\n",
    "\n",
    "# Construct the full path to the CSV file\n",
    "csv_file_path = os.path.join(folder_path, csv_file_name)\n",
    "\n",
    "# Load the CSV file into a Pandas DataFrame\n",
    "df = pd.read_csv(csv_file_path)"
   ]
  },
  {
   "cell_type": "code",
   "execution_count": 7,
   "id": "19e92d20-b0f1-4f2c-badc-fb7dab95a463",
   "metadata": {},
   "outputs": [
    {
     "name": "stdout",
     "output_type": "stream",
     "text": [
      "\n",
      "Statistical summary:\n",
      "       39, State-gov, 77516, Bachelors, 13, Never-married, Adm-clerical, Not-in-family, White, Male, 2174, 0, 40, United-States, <=50K\n",
      "count                                               32560                                                                             \n",
      "unique                                              32536                                                                             \n",
      "top     25, Private, 195994, 1st-4th, 2, Never-married...                                                                             \n",
      "freq                                                    3                                                                             \n"
     ]
    }
   ],
   "source": [
    "print(\"\\nStatistical summary:\")\n",
    "print(df.describe())"
   ]
  },
  {
   "cell_type": "code",
   "execution_count": 6,
   "id": "64eb8e9f-742d-4131-8e54-54b05a842109",
   "metadata": {},
   "outputs": [
    {
     "name": "stdout",
     "output_type": "stream",
     "text": [
      "\n",
      "DataFrame information:\n",
      "<class 'pandas.core.frame.DataFrame'>\n",
      "RangeIndex: 32560 entries, 0 to 32559\n",
      "Data columns (total 1 columns):\n",
      " #   Column                                                                                                                           Non-Null Count  Dtype \n",
      "---  ------                                                                                                                           --------------  ----- \n",
      " 0   39, State-gov, 77516, Bachelors, 13, Never-married, Adm-clerical, Not-in-family, White, Male, 2174, 0, 40, United-States, <=50K  32560 non-null  object\n",
      "dtypes: object(1)\n",
      "memory usage: 254.5+ KB\n",
      "None\n"
     ]
    }
   ],
   "source": [
    "print(\"\\nDataFrame information:\")\n",
    "print(df.info())"
   ]
  },
  {
   "cell_type": "code",
   "execution_count": 5,
   "id": "d4e42bac-e5a6-4dee-b251-03ebdd4965c3",
   "metadata": {},
   "outputs": [
    {
     "name": "stdout",
     "output_type": "stream",
     "text": [
      "\n",
      "Last few rows:\n",
      "      39, State-gov, 77516, Bachelors, 13, Never-married, Adm-clerical, Not-in-family, White, Male, 2174, 0, 40, United-States, <=50K\n",
      "32555  27, Private, 257302, Assoc-acdm, 12, Married-c...                                                                             \n",
      "32556  40, Private, 154374, HS-grad, 9, Married-civ-s...                                                                             \n",
      "32557  58, Private, 151910, HS-grad, 9, Widowed, Adm-...                                                                             \n",
      "32558  22, Private, 201490, HS-grad, 9, Never-married...                                                                             \n",
      "32559  52, Self-emp-inc, 287927, HS-grad, 9, Married-...                                                                             \n"
     ]
    }
   ],
   "source": [
    "print(\"\\nLast few rows:\")\n",
    "print(df.tail())\n"
   ]
  },
  {
   "cell_type": "code",
   "execution_count": 8,
   "id": "6644bbf0-80e5-4a94-802a-6874c82b9147",
   "metadata": {},
   "outputs": [
    {
     "name": "stdout",
     "output_type": "stream",
     "text": [
      "First few rows:\n",
      "  39, State-gov, 77516, Bachelors, 13, Never-married, Adm-clerical, Not-in-family, White, Male, 2174, 0, 40, United-States, <=50K\n",
      "0  50, Self-emp-not-inc, 83311, Bachelors, 13, Ma...                                                                             \n",
      "1  38, Private, 215646, HS-grad, 9, Divorced, Han...                                                                             \n",
      "2  53, Private, 234721, 11th, 7, Married-civ-spou...                                                                             \n",
      "3  28, Private, 338409, Bachelors, 13, Married-ci...                                                                             \n",
      "4  37, Private, 284582, Masters, 14, Married-civ-...                                                                             \n"
     ]
    }
   ],
   "source": [
    "print(\"First few rows:\")\n",
    "print(df.head())"
   ]
  },
  {
   "cell_type": "code",
   "execution_count": null,
   "id": "8e9632fc-89b2-4805-b631-1fd3b7deb297",
   "metadata": {},
   "outputs": [],
   "source": []
  }
 ],
 "metadata": {
  "kernelspec": {
   "display_name": "Python 3 (ipykernel)",
   "language": "python",
   "name": "python3"
  },
  "language_info": {
   "codemirror_mode": {
    "name": "ipython",
    "version": 3
   },
   "file_extension": ".py",
   "mimetype": "text/x-python",
   "name": "python",
   "nbconvert_exporter": "python",
   "pygments_lexer": "ipython3",
   "version": "3.11.4"
  }
 },
 "nbformat": 4,
 "nbformat_minor": 5
}
